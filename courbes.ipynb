{
 "cells": [
  {
   "cell_type": "markdown",
   "metadata": {},
   "source": [
    "Plot les 2 figures (acc et loss) à partir du fichier json `training_info`"
   ]
  },
  {
   "cell_type": "code",
   "execution_count": 9,
   "metadata": {},
   "outputs": [],
   "source": [
    "import json\n",
    "import os\n",
    "from utils import save_loss_acc"
   ]
  },
  {
   "cell_type": "code",
   "execution_count": 10,
   "metadata": {},
   "outputs": [],
   "source": [
    "result_dir = \"/home/mpelissi/MVTN/my_MVTN/results/results_10-20_00h42m06/\"\n",
    "json_file = os.path.join(result_dir,\"training_info.json\")\n",
    "\n",
    "# Load the JSON file\n",
    "with open(json_file, 'r') as json_file:\n",
    "    training_data = json.load(json_file)\n",
    "\n",
    "# Assuming the JSON file contains lists under specific keys\n",
    "train_losses = training_data.get('train_losses', [])  # Replace 'key1' with the actual key name in the JSON\n",
    "train_accuracies = training_data.get('train_accuracies', [])\n",
    "test_losses = training_data.get('test_losses', [])\n",
    "test_accuracies = training_data.get('test_accuracies', [])\n",
    "best_epoch = training_data.get('best_epoch', [])"
   ]
  },
  {
   "cell_type": "code",
   "execution_count": null,
   "metadata": {},
   "outputs": [],
   "source": [
    "# Save the training information with 2 figure\n",
    "save_loss_acc(result_dir,train_losses, test_losses, train_accuracies, test_accuracies, plot_best=True, best_epoch=best_epoch) "
   ]
  },
  {
   "cell_type": "code",
   "execution_count": null,
   "metadata": {},
   "outputs": [],
   "source": [
    "len(train_accuracies)"
   ]
  },
  {
   "cell_type": "code",
   "execution_count": null,
   "metadata": {},
   "outputs": [],
   "source": []
  }
 ],
 "metadata": {
  "kernelspec": {
   "display_name": "mvtorchenv1",
   "language": "python",
   "name": "python3"
  },
  "language_info": {
   "codemirror_mode": {
    "name": "ipython",
    "version": 3
   },
   "file_extension": ".py",
   "mimetype": "text/x-python",
   "name": "python",
   "nbconvert_exporter": "python",
   "pygments_lexer": "ipython3",
   "version": "3.8.20"
  }
 },
 "nbformat": 4,
 "nbformat_minor": 2
}
