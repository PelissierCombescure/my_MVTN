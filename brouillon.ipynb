{
 "cells": [
  {
   "cell_type": "code",
   "execution_count": 1,
   "id": "245c3b81",
   "metadata": {},
   "outputs": [
    {
     "name": "stderr",
     "output_type": "stream",
     "text": [
      "/home/mpelissi/anaconda3/envs/MVTN_env3/lib/python3.8/site-packages/tqdm/auto.py:21: TqdmWarning: IProgress not found. Please update jupyter and ipywidgets. See https://ipywidgets.readthedocs.io/en/stable/user_install.html\n",
      "  from .autonotebook import tqdm as notebook_tqdm\n"
     ]
    }
   ],
   "source": [
    "import torch\n",
    "import numpy as np\n",
    "import argparse\n",
    "import pandas as pd\n",
    "from mvtorch.data import ModelNet40, CustomDataLoader\n",
    "from mvtorch.networks import MVNetwork\n",
    "from mvtorch.view_selector import MVTN\n",
    "from mvtorch.mvrenderer import MVRenderer\n",
    "import matplotlib.pyplot as plt\n",
    "from tqdm import tqdm\n",
    "from datetime import datetime\n",
    "from sklearn.metrics import confusion_matrix\n",
    "import seaborn as sns\n",
    "import json\n",
    "import glob\n",
    "import os"
   ]
  },
  {
   "cell_type": "code",
   "execution_count": 15,
   "id": "d55e5935",
   "metadata": {},
   "outputs": [],
   "source": [
    "data_dir = \"/home/mpelissi/Dataset/ModelNet40/\"\n",
    "for label in os.listdir(data_dir):  # Label\n",
    "    # Get all .off files in the current directory\n",
    "    if \"remeshing_iso\" in data_dir: extension = \".obj\"                \n",
    "    else : extension = \".off\"                \n",
    "    items = [item for item in os.listdir(data_dir + '/' + label + '/' + 'test') \n",
    "        if item.endswith(extension)]"
   ]
  },
  {
   "cell_type": "code",
   "execution_count": 20,
   "id": "8b1a257d",
   "metadata": {},
   "outputs": [
    {
     "name": "stdout",
     "output_type": "stream",
     "text": [
      "['curtain_0154.off', 'curtain_0153.off', 'curtain_0146.off', 'curtain_0147.off', 'curtain_0145.off', 'curtain_0156.off', 'curtain_0148.off', 'curtain_0142.off', 'curtain_0149.off', 'curtain_0144.off', 'curtain_0141.off', 'curtain_0140.off', 'curtain_0150.off', 'curtain_0158.off', 'curtain_0157.off', 'curtain_0139.off', 'curtain_0155.off', 'curtain_0143.off', 'curtain_0151.off', 'curtain_0152.off'] 20\n"
     ]
    }
   ],
   "source": [
    "print(items, len(items))"
   ]
  },
  {
   "cell_type": "code",
   "execution_count": 18,
   "id": "bf669d49",
   "metadata": {},
   "outputs": [
    {
     "name": "stdout",
     "output_type": "stream",
     "text": [
      "['plant_0250', 'plant_0297', 'plant_0302', 'plant_0324', 'plant_0313', 'plant_0291', 'plant_0307', 'plant_0273', 'plant_0267', 'plant_0262', 'plant_0282', 'plant_0323', 'plant_0261', 'plant_0294', 'plant_0268', 'plant_0330', 'plant_0292', 'plant_0319', 'plant_0245', 'plant_0258', 'plant_0328', 'plant_0312', 'plant_0309', 'plant_0293', 'plant_0269', 'plant_0329', 'plant_0256', 'plant_0295', 'plant_0300', 'plant_0274', 'plant_0340', 'plant_0338', 'plant_0289', 'plant_0272', 'plant_0336', 'plant_0325', 'plant_0299', 'plant_0271', 'plant_0334', 'plant_0254', 'plant_0337', 'plant_0321', 'plant_0333', 'plant_0286', 'plant_0249', 'plant_0335', 'plant_0322', 'plant_0290', 'plant_0280', 'plant_0317', 'plant_0242', 'plant_0277', 'plant_0257', 'plant_0260', 'plant_0285', 'plant_0263', 'plant_0281', 'plant_0279', 'plant_0303', 'plant_0287', 'plant_0316', 'plant_0304', 'plant_0339', 'plant_0246', 'plant_0266', 'plant_0264', 'plant_0318', 'plant_0326', 'plant_0311', 'plant_0310', 'plant_0284', 'plant_0247', 'plant_0296', 'plant_0283', 'plant_0288', 'plant_0331', 'plant_0248', 'plant_0308', 'plant_0243', 'plant_0301', 'plant_0332', 'plant_0314', 'plant_0327', 'plant_0259', 'plant_0270', 'plant_0306', 'plant_0320', 'plant_0251', 'plant_0252', 'plant_0298', 'plant_0244', 'plant_0253', 'plant_0241', 'mantel_0368', 'mantel_0365', 'mantel_0340', 'mantel_0320', 'mantel_0293', 'mantel_0374', 'mantel_0362', 'mantel_0292', 'cup_0087', 'cup_0081', 'cup_0086', 'cup_0089', 'cup_0096', 'cup_0098', 'cup_0091', 'cup_0090', 'cup_0099', 'cup_0093', 'cup_0097', 'cup_0094', 'cup_0082', 'cup_0083', 'cup_0084', 'cup_0092', 'cup_0080', 'cup_0095', 'cup_0088', 'bookshelf_0578', 'bookshelf_0662', 'bookshelf_0658', 'bookshelf_0593', 'bookshelf_0580', 'bookshelf_0630', 'bookshelf_0635', 'bookshelf_0605', 'bookshelf_0670', 'bookshelf_0643', 'bookshelf_0583', 'bookshelf_0577', 'bookshelf_0606', 'bookshelf_0576', 'bookshelf_0594', 'bookshelf_0622', 'bookshelf_0627', 'bookshelf_0651', 'bookshelf_0636', 'bookshelf_0663', 'bookshelf_0641', 'bookshelf_0649', 'bookshelf_0610', 'bookshelf_0655', 'bookshelf_0669', 'bookshelf_0671', 'bookshelf_0608', 'bookshelf_0661', 'bookshelf_0634', 'bookshelf_0665', 'bookshelf_0584', 'bookshelf_0639', 'bookshelf_0645', 'bookshelf_0611', 'bookshelf_0603', 'bookshelf_0642', 'bookshelf_0590', 'bookshelf_0592', 'bookshelf_0632', 'bookshelf_0628', 'bookshelf_0582', 'bookshelf_0657', 'bookshelf_0638', 'bookshelf_0668', 'bookshelf_0647', 'bookshelf_0617', 'bookshelf_0620', 'bookshelf_0614', 'bookshelf_0600', 'wardrobe_0097', 'wardrobe_0098', 'wardrobe_0095', 'wardrobe_0088', 'wardrobe_0100', 'wardrobe_0105', 'wardrobe_0092', 'wardrobe_0104', 'wardrobe_0096', 'wardrobe_0099', 'wardrobe_0090', 'wardrobe_0089', 'wardrobe_0094', 'wardrobe_0102', 'table_0437', 'table_0471', 'table_0414', 'table_0409', 'table_0420', 'table_0393', 'table_0485', 'table_0412', 'table_0492', 'table_0438', 'table_0466', 'table_0443', 'table_0405', 'table_0464', 'table_0399', 'table_0433', 'table_0473', 'table_0456', 'table_0445', 'table_0479', 'table_0487', 'table_0418', 'table_0406', 'table_0450', 'table_0484', 'table_0402', 'table_0465', 'table_0398', 'table_0489', 'table_0407', 'table_0461', 'table_0468', 'table_0444', 'table_0458', 'table_0454', 'table_0480', 'table_0469', 'table_0475', 'table_0408', 'table_0449', 'table_0396', 'table_0413', 'table_0394', 'table_0410', 'table_0424', 'table_0395', 'table_0428', 'table_0451', 'table_0472', 'table_0453', 'table_0446', 'table_0455', 'table_0432', 'table_0423', 'table_0419', 'table_0486', 'table_0400', 'table_0415', 'table_0457', 'table_0430', 'table_0462', 'table_0431', 'table_0463', 'table_0403', 'table_0488', 'table_0404', 'table_0422', 'table_0491', 'table_0397', 'table_0434', 'table_0441', 'table_0477', 'table_0482', 'table_0467', 'table_0421', 'piano_0238', 'piano_0306', 'piano_0279', 'piano_0254', 'piano_0273', 'piano_0302', 'piano_0303', 'piano_0310', 'piano_0275', 'piano_0309', 'piano_0270', 'piano_0271', 'piano_0277', 'piano_0325', 'piano_0297', 'piano_0298', 'piano_0315', 'piano_0240', 'piano_0280', 'piano_0328', 'piano_0304', 'piano_0317', 'piano_0289', 'piano_0296', 'piano_0241', 'piano_0295', 'piano_0330', 'piano_0307', 'piano_0321', 'piano_0284', 'piano_0261', 'piano_0234', 'piano_0305', 'piano_0312', 'piano_0265', 'piano_0259', 'piano_0282', 'piano_0245', 'piano_0326', 'bowl_0071', 'bowl_0073', 'bowl_0065', 'bowl_0080', 'bowl_0067', 'bowl_0082', 'bowl_0079', 'bowl_0075', 'bowl_0068', 'bowl_0066', 'bowl_0078', 'bowl_0074', 'bowl_0076', 'bowl_0083', 'bowl_0069', 'bowl_0070', 'bowl_0077', 'bowl_0084', 'bowl_0072', 'bowl_0081', 'chair_0989', 'chair_0977', 'chair_0983', 'chair_0941', 'chair_0951', 'chair_0972', 'chair_0912', 'chair_0986', 'chair_0956', 'chair_0904', 'chair_0949', 'chair_0940', 'chair_0897', 'chair_0890', 'chair_0899', 'chair_0907', 'chair_0921', 'chair_0937', 'chair_0948', 'chair_0938', 'chair_0919', 'chair_0917', 'chair_0916', 'chair_0963', 'chair_0958', 'chair_0943', 'chair_0898', 'chair_0964', 'chair_0971', 'chair_0974', 'chair_0980', 'chair_0911', 'chair_0908', 'chair_0957', 'chair_0910', 'chair_0909', 'chair_0942', 'chair_0959', 'chair_0975', 'chair_0922', 'chair_0914', 'chair_0915', 'chair_0930', 'chair_0969', 'chair_0896', 'chair_0970', 'chair_0961', 'chair_0962', 'chair_0935', 'chair_0918', 'chair_0939', 'chair_0966', 'chair_0900', 'chair_0968', 'chair_0902', 'chair_0953', 'chair_0976', 'chair_0947', 'chair_0924', 'chair_0934', 'chair_0954', 'chair_0906', 'chair_0893', 'chair_0927', 'chair_0892', 'chair_0987', 'chair_0929', 'chair_0988', 'chair_0981', 'chair_0928', 'chair_0936', 'chair_0926', 'chair_0891', 'chair_0967', 'chair_0905', 'chair_0895', 'chair_0978', 'chair_0944', 'chair_0923', 'chair_0952', 'chair_0933', 'chair_0979', 'chair_0985', 'chair_0931', 'chair_0965', 'chair_0945', 'chair_0925', 'chair_0960', 'chair_0973', 'chair_0946', 'chair_0950', 'xbox_0109', 'xbox_0108', 'xbox_0111', 'xbox_0122', 'xbox_0123', 'xbox_0119', 'xbox_0118', 'xbox_0113', 'xbox_0117', 'xbox_0105', 'xbox_0121', 'xbox_0120', 'xbox_0110', 'xbox_0114', 'xbox_0115', 'tv_stand_0275', 'tv_stand_0309', 'tv_stand_0288', 'tv_stand_0319', 'tv_stand_0279', 'tv_stand_0347', 'tv_stand_0291', 'tv_stand_0304', 'tv_stand_0314', 'tv_stand_0300', 'tv_stand_0305', 'tv_stand_0362', 'tv_stand_0338', 'tv_stand_0346', 'tv_stand_0350', 'tv_stand_0318', 'tv_stand_0337', 'tv_stand_0274', 'tv_stand_0348', 'tv_stand_0336', 'tv_stand_0280', 'tv_stand_0303', 'tv_stand_0296', 'tv_stand_0349', 'tv_stand_0276', 'tv_stand_0302', 'tv_stand_0343', 'tv_stand_0358', 'tv_stand_0332', 'tv_stand_0270', 'tv_stand_0352', 'tv_stand_0273', 'tv_stand_0281', 'tv_stand_0268', 'tv_stand_0287', 'tv_stand_0330', 'tv_stand_0286', 'tv_stand_0284', 'tv_stand_0354', 'tv_stand_0307', 'tv_stand_0327', 'tv_stand_0321', 'tv_stand_0322', 'tv_stand_0345', 'tv_stand_0342', 'tv_stand_0366', 'tv_stand_0277', 'tv_stand_0360', 'tv_stand_0289', 'tv_stand_0339', 'tv_stand_0310', 'tv_stand_0340', 'tv_stand_0311', 'tv_stand_0364', 'tv_stand_0271', 'tv_stand_0308', 'laptop_0160', 'laptop_0152', 'laptop_0167', 'laptop_0161', 'laptop_0162', 'laptop_0169', 'laptop_0163', 'laptop_0153', 'laptop_0151', 'laptop_0166', 'laptop_0157', 'laptop_0154', 'laptop_0159', 'laptop_0168', 'laptop_0150', 'laptop_0165', 'laptop_0156', 'laptop_0155', 'laptop_0158', 'vase_0530', 'vase_0566', 'vase_0518', 'vase_0564', 'vase_0542', 'vase_0498', 'vase_0531', 'vase_0480', 'vase_0483', 'vase_0562', 'vase_0497', 'vase_0544', 'vase_0495', 'vase_0509', 'vase_0476', 'vase_0500', 'vase_0534', 'vase_0533', 'vase_0532', 'vase_0538', 'vase_0554', 'vase_0504', 'vase_0477', 'vase_0502', 'vase_0555', 'vase_0560', 'vase_0501', 'vase_0545', 'vase_0567', 'vase_0539', 'vase_0511', 'vase_0527', 'vase_0486', 'vase_0514', 'vase_0559', 'vase_0563', 'vase_0481', 'vase_0561', 'vase_0536', 'vase_0479', 'vase_0537', 'vase_0513', 'vase_0515', 'vase_0496', 'vase_0525', 'vase_0541', 'vase_0556', 'vase_0528', 'vase_0493', 'vase_0503', 'vase_0494', 'vase_0519', 'vase_0499', 'vase_0512', 'vase_0491', 'vase_0522', 'vase_0505', 'vase_0557', 'vase_0506', 'vase_0553', 'vase_0492', 'vase_0489', 'vase_0524', 'vase_0490', 'vase_0540', 'vase_0535', 'vase_0485', 'vase_0478', 'vase_0510', 'vase_0484', 'vase_0508', 'vase_0571', 'vase_0558', 'vase_0572', 'vase_0517', 'vase_0526', 'vase_0568', 'vase_0575', 'vase_0569', 'vase_0523', 'vase_0549', 'vase_0565', 'vase_0507', 'vase_0529', 'vase_0551', 'vase_0547', 'vase_0546', 'vase_0548', 'vase_0520', 'vase_0574', 'vase_0570', 'vase_0543', 'vase_0521', 'vase_0573', 'vase_0487', 'vase_0552', 'vase_0482', 'vase_0516', 'vase_0550', 'vase_0488', 'cone_0174', 'cone_0169', 'cone_0170', 'cone_0172', 'cone_0187', 'cone_0183', 'cone_0185', 'cone_0173', 'cone_0186', 'cone_0181', 'cone_0175', 'cone_0180', 'cone_0171', 'cone_0184', 'cone_0178', 'cone_0177', 'cone_0168', 'cone_0179', 'car_0259', 'car_0225', 'car_0226', 'car_0249', 'car_0236', 'car_0199', 'car_0270', 'car_0245', 'car_0297', 'car_0289', 'car_0234', 'car_0239', 'car_0230', 'car_0200', 'car_0218', 'car_0252', 'car_0243', 'car_0284', 'car_0208', 'car_0295', 'car_0281', 'car_0251', 'car_0272', 'car_0279', 'car_0264', 'car_0250', 'car_0286', 'car_0293', 'car_0219', 'car_0233', 'car_0291', 'car_0229', 'car_0267', 'car_0222', 'car_0235', 'car_0294', 'car_0238', 'car_0276', 'car_0203', 'car_0247', 'car_0211', 'car_0223', 'car_0248', 'car_0278', 'car_0282', 'car_0290', 'car_0217', 'car_0296', 'car_0253', 'car_0209', 'car_0232', 'car_0215', 'car_0206', 'car_0241', 'car_0228', 'car_0275', 'car_0262', 'car_0266', 'car_0265', 'car_0274', 'car_0216', 'car_0271', 'car_0292', 'car_0201', 'car_0260', 'car_0207', 'car_0231', 'car_0244', 'car_0242', 'car_0285', 'car_0246', 'car_0224', 'car_0280', 'car_0283', 'car_0240', 'car_0221', 'car_0210', 'car_0261', 'car_0204', 'car_0277', 'car_0212', 'tent_0169', 'tent_0180', 'tent_0182', 'tent_0171', 'tent_0177', 'tent_0183', 'tent_0167', 'tent_0164', 'tent_0175', 'tent_0168', 'tent_0173', 'tent_0178', 'tent_0181', 'tent_0176', 'tent_0174', 'tent_0172', 'tent_0165', 'tent_0179', 'tent_0166', 'tent_0170', 'stairs_0144', 'stairs_0136', 'stairs_0131', 'stairs_0135', 'stairs_0134', 'stairs_0132', 'stairs_0141', 'stairs_0133', 'stairs_0142', 'stairs_0140', 'stairs_0137', 'stairs_0125', 'stairs_0128', 'stairs_0126', 'stairs_0129', 'stairs_0143', 'stairs_0127', 'toilet_0393', 'toilet_0390', 'toilet_0384', 'toilet_0420', 'toilet_0438', 'toilet_0443', 'toilet_0416', 'toilet_0372', 'toilet_0348', 'toilet_0409', 'toilet_0435', 'toilet_0383', 'toilet_0381', 'toilet_0356', 'toilet_0365', 'toilet_0436', 'toilet_0385', 'toilet_0346', 'toilet_0368', 'toilet_0362', 'toilet_0427', 'toilet_0403', 'toilet_0353', 'toilet_0411', 'toilet_0369', 'toilet_0350', 'toilet_0351', 'toilet_0360', 'toilet_0406', 'toilet_0440', 'toilet_0379', 'toilet_0373', 'toilet_0382', 'toilet_0349', 'toilet_0378', 'toilet_0424', 'toilet_0413', 'toilet_0394', 'toilet_0387', 'toilet_0397', 'toilet_0442', 'toilet_0396', 'toilet_0423', 'toilet_0432', 'toilet_0429', 'toilet_0388', 'toilet_0439', 'toilet_0376', 'toilet_0402', 'toilet_0371', 'toilet_0444', 'toilet_0389', 'toilet_0355', 'toilet_0370', 'toilet_0401', 'toilet_0395', 'toilet_0380', 'toilet_0361', 'toilet_0419', 'toilet_0357', 'toilet_0428', 'toilet_0408', 'toilet_0418', 'toilet_0441', 'toilet_0430', 'toilet_0431', 'toilet_0375', 'toilet_0391', 'toilet_0352', 'toilet_0410', 'toilet_0425', 'toilet_0415', 'toilet_0398', 'toilet_0400', 'toilet_0347', 'toilet_0386', 'toilet_0426', 'toilet_0437', 'toilet_0354', 'toilet_0412', 'toilet_0363', 'toilet_0405', 'toilet_0358', 'toilet_0421', 'toilet_0399', 'toilet_0366', 'toilet_0404', 'toilet_0417', 'toilet_0434', 'toilet_0359', 'toilet_0374', 'toilet_0364', 'toilet_0414', 'bottle_0412', 'bottle_0386', 'bottle_0411', 'bottle_0379', 'bottle_0352', 'bottle_0354', 'bottle_0401', 'bottle_0346', 'bottle_0349', 'bottle_0414', 'bottle_0407', 'bottle_0430', 'bottle_0416', 'bottle_0413', 'bottle_0390', 'bottle_0378', 'bottle_0433', 'bottle_0384', 'bottle_0418', 'bottle_0337', 'bottle_0409', 'bottle_0383', 'bottle_0422', 'bottle_0408', 'bottle_0397', 'bottle_0392', 'bottle_0402', 'bottle_0423', 'bottle_0429', 'bottle_0424', 'bottle_0374', 'bottle_0375', 'bottle_0359', 'bottle_0382', 'bottle_0417', 'bottle_0394', 'bottle_0362', 'bottle_0387', 'bottle_0404', 'bottle_0351', 'bottle_0434', 'bottle_0399', 'bottle_0358', 'bottle_0342', 'bottle_0336', 'bottle_0338', 'bottle_0340', 'bottle_0366', 'bottle_0365', 'bottle_0428', 'bottle_0421', 'bottle_0364', 'bottle_0371', 'bottle_0398', 'bottle_0419', 'bottle_0435', 'bottle_0400', 'bottle_0355', 'bottle_0415', 'bottle_0391', 'bottle_0395', 'bottle_0373', 'bottle_0420', 'bottle_0361', 'bottle_0344', 'bottle_0396', 'bottle_0431', 'bottle_0388', 'bottle_0393', 'bottle_0432', 'bottle_0380', 'bottle_0425', 'bottle_0353', 'bottle_0357', 'bottle_0356', 'bottle_0348', 'bottle_0426', 'bottle_0339', 'bottle_0345', 'bottle_0406', 'bottle_0403', 'bottle_0405', 'bottle_0370', 'bottle_0381', 'bottle_0347', 'bottle_0368', 'bottle_0410', 'bottle_0427', 'bottle_0369', 'bottle_0372', 'bottle_0360', 'bottle_0389', 'bottle_0341', 'bottle_0343', 'bottle_0385', 'keyboard_0157', 'keyboard_0151', 'keyboard_0154', 'keyboard_0159', 'keyboard_0153', 'keyboard_0163', 'keyboard_0162', 'keyboard_0161', 'keyboard_0147', 'keyboard_0155', 'keyboard_0148', 'keyboard_0158', 'keyboard_0146', 'range_hood_0137', 'range_hood_0194', 'range_hood_0208', 'range_hood_0174', 'range_hood_0127', 'range_hood_0182', 'range_hood_0144', 'range_hood_0195', 'range_hood_0172', 'range_hood_0163', 'range_hood_0207', 'range_hood_0187', 'range_hood_0121', 'range_hood_0118', 'range_hood_0181', 'range_hood_0157', 'range_hood_0188', 'range_hood_0164', 'range_hood_0200', 'range_hood_0189', 'range_hood_0159', 'range_hood_0180', 'range_hood_0132', 'range_hood_0156', 'range_hood_0196', 'range_hood_0197', 'range_hood_0186', 'range_hood_0185', 'range_hood_0184', 'range_hood_0183', 'range_hood_0213', 'range_hood_0166', 'range_hood_0143', 'range_hood_0173', 'range_hood_0117', 'range_hood_0193', 'range_hood_0209', 'dresser_0215', 'dresser_0281', 'dresser_0210', 'dresser_0241', 'dresser_0205', 'dresser_0274', 'dresser_0282', 'dresser_0201', 'dresser_0253', 'dresser_0249', 'dresser_0275', 'dresser_0244', 'dresser_0203', 'dresser_0207', 'dresser_0231', 'dresser_0234', 'dresser_0254', 'dresser_0283', 'dresser_0251', 'dresser_0240', 'dresser_0271', 'dresser_0242', 'dresser_0213', 'dresser_0264', 'dresser_0257', 'dresser_0260', 'dresser_0278', 'dresser_0230', 'dresser_0220', 'dresser_0226', 'dresser_0235', 'dresser_0270', 'dresser_0247', 'dresser_0250', 'dresser_0211', 'dresser_0219', 'dresser_0248', 'dresser_0214', 'dresser_0263', 'dresser_0239', 'dresser_0276', 'dresser_0279', 'dresser_0273', 'dresser_0258', 'dresser_0217', 'dresser_0208', 'dresser_0284', 'dresser_0261', 'dresser_0272', 'dresser_0256', 'dresser_0206', 'bathtub_0148', 'bathtub_0131', 'bathtub_0141', 'bathtub_0155', 'bathtub_0113', 'bathtub_0151', 'bathtub_0108', 'bathtub_0136', 'bathtub_0150', 'bathtub_0145', 'bathtub_0138', 'bathtub_0114', 'bathtub_0132', 'bathtub_0153', 'bathtub_0134', 'bathtub_0118', 'bathtub_0119', 'bathtub_0116', 'bathtub_0156', 'bathtub_0127', 'bathtub_0110', 'bathtub_0126', 'bathtub_0135', 'bathtub_0109', 'bathtub_0129', 'bathtub_0115', 'bathtub_0149', 'bathtub_0147', 'bathtub_0121', 'bathtub_0120', 'bathtub_0146', 'bathtub_0142', 'bathtub_0143', 'bathtub_0112', 'bathtub_0130', 'bathtub_0154', 'bathtub_0107', 'bathtub_0128', 'bathtub_0122', 'bathtub_0123', 'bathtub_0140', 'bathtub_0139', 'bathtub_0144', 'bathtub_0111', 'bathtub_0117', 'bathtub_0152', 'bathtub_0133', 'sink_0140', 'sink_0134', 'sink_0143', 'sink_0147', 'sink_0141', 'sink_0146', 'sink_0139', 'sink_0135', 'sink_0130', 'sink_0129', 'sink_0131', 'sink_0145', 'sink_0142', 'sink_0133', 'sink_0148', 'sink_0138', 'sink_0137', 'sink_0144', 'sofa_0775', 'sofa_0698', 'sofa_0759', 'sofa_0751', 'sofa_0706', 'sofa_0686', 'sofa_0745', 'sofa_0702', 'sofa_0713', 'sofa_0744', 'sofa_0730', 'sofa_0699', 'sofa_0703', 'sofa_0750', 'sofa_0704', 'sofa_0692', 'sofa_0761', 'sofa_0740', 'sofa_0711', 'sofa_0683', 'sofa_0746', 'sofa_0707', 'sofa_0685', 'sofa_0688', 'sofa_0762', 'sofa_0767', 'sofa_0754', 'sofa_0757', 'sofa_0708', 'sofa_0682', 'sofa_0695', 'sofa_0681', 'sofa_0766', 'sofa_0717', 'sofa_0687', 'sofa_0734', 'sofa_0768', 'sofa_0710', 'sofa_0712', 'sofa_0721', 'sofa_0691', 'sofa_0718', 'sofa_0738', 'sofa_0770', 'sofa_0723', 'sofa_0733', 'sofa_0764', 'sofa_0719', 'sofa_0701', 'sofa_0748', 'sofa_0694', 'sofa_0714', 'sofa_0771', 'sofa_0774', 'sofa_0742', 'sofa_0720', 'sofa_0743', 'sofa_0728', 'sofa_0763', 'sofa_0727', 'sofa_0725', 'sofa_0780', 'sofa_0736', 'sofa_0715', 'sofa_0716', 'sofa_0765', 'sofa_0779', 'sofa_0755', 'sofa_0778', 'sofa_0724', 'sofa_0752', 'sofa_0731', 'sofa_0696', 'sofa_0722', 'sofa_0693', 'sofa_0690', 'sofa_0732', 'sofa_0749', 'sofa_0776', 'sofa_0726', 'sofa_0758', 'guitar_0207', 'guitar_0209', 'guitar_0208', 'guitar_0232', 'guitar_0158', 'guitar_0195', 'guitar_0167', 'guitar_0200', 'guitar_0206', 'guitar_0221', 'guitar_0234', 'guitar_0178', 'guitar_0244', 'guitar_0182', 'guitar_0193', 'guitar_0174', 'guitar_0245', 'guitar_0237', 'guitar_0225', 'guitar_0211', 'guitar_0189', 'guitar_0222', 'guitar_0210', 'guitar_0198', 'guitar_0224', 'guitar_0247', 'guitar_0214', 'guitar_0255', 'guitar_0176', 'guitar_0239', 'guitar_0175', 'guitar_0213', 'guitar_0223', 'guitar_0238', 'guitar_0177', 'guitar_0157', 'guitar_0186', 'guitar_0246', 'guitar_0203', 'guitar_0218', 'guitar_0230', 'guitar_0183', 'guitar_0190', 'guitar_0236', 'guitar_0194', 'guitar_0191', 'guitar_0197', 'guitar_0217', 'guitar_0181', 'guitar_0171', 'bench_0191', 'bench_0175', 'bench_0185', 'bench_0179', 'bench_0187', 'bench_0192', 'bench_0184', 'bench_0178', 'bench_0177', 'bench_0176', 'bench_0193', 'bench_0183', 'bench_0180', 'bench_0181', 'bench_0174', 'bench_0188', 'bench_0186', 'bench_0182', 'bench_0189', 'door_0123', 'door_0127', 'door_0112', 'door_0114', 'door_0115', 'door_0122', 'door_0111', 'door_0121', 'door_0110', 'door_0117', 'door_0116', 'door_0126', 'door_0128', 'door_0113', 'radio_0113', 'radio_0120', 'radio_0123', 'radio_0121', 'radio_0108', 'radio_0107', 'radio_0117', 'radio_0111', 'radio_0112', 'radio_0119', 'radio_0116', 'radio_0122', 'monitor_0552', 'monitor_0467', 'monitor_0560', 'monitor_0490', 'monitor_0514', 'monitor_0493', 'monitor_0510', 'monitor_0487', 'monitor_0533', 'monitor_0496', 'monitor_0515', 'monitor_0563', 'monitor_0474', 'monitor_0491', 'monitor_0519', 'monitor_0528', 'monitor_0476', 'monitor_0484', 'monitor_0517', 'monitor_0540', 'monitor_0511', 'monitor_0471', 'monitor_0523', 'monitor_0489', 'monitor_0530', 'monitor_0535', 'monitor_0539', 'monitor_0543', 'monitor_0483', 'monitor_0558', 'monitor_0498', 'monitor_0466', 'monitor_0482', 'monitor_0525', 'monitor_0545', 'monitor_0495', 'monitor_0559', 'monitor_0555', 'monitor_0556', 'monitor_0557', 'monitor_0485', 'monitor_0472', 'monitor_0505', 'monitor_0475', 'monitor_0480', 'monitor_0479', 'monitor_0500', 'monitor_0486', 'monitor_0497', 'monitor_0477', 'monitor_0488', 'monitor_0512', 'monitor_0561', 'monitor_0562', 'monitor_0549', 'monitor_0546', 'monitor_0553', 'monitor_0565', 'monitor_0532', 'monitor_0544', 'monitor_0522', 'monitor_0529', 'monitor_0526', 'monitor_0468', 'monitor_0478', 'monitor_0516', 'monitor_0502', 'monitor_0550', 'monitor_0564', 'monitor_0534', 'monitor_0494', 'monitor_0518', 'monitor_0548', 'monitor_0554', 'monitor_0531', 'person_0106', 'person_0097', 'person_0107', 'person_0108', 'person_0090', 'person_0101', 'person_0104', 'person_0098', 'person_0091', 'person_0099', 'person_0103', 'person_0094', 'person_0095', 'desk_0285', 'desk_0216', 'desk_0263', 'desk_0229', 'desk_0214', 'desk_0286', 'desk_0232', 'desk_0272', 'desk_0224', 'desk_0256', 'desk_0212', 'desk_0271', 'desk_0202', 'desk_0220', 'desk_0242', 'desk_0207', 'desk_0218', 'desk_0261', 'desk_0274', 'desk_0205', 'desk_0245', 'desk_0283', 'desk_0241', 'desk_0223', 'desk_0265', 'desk_0217', 'desk_0277', 'desk_0227', 'desk_0273', 'desk_0222', 'desk_0235', 'desk_0260', 'desk_0203', 'desk_0211', 'desk_0270', 'desk_0228', 'desk_0249', 'desk_0255', 'desk_0284', 'desk_0254', 'desk_0237', 'desk_0240', 'desk_0278', 'desk_0233', 'desk_0257', 'desk_0206', 'desk_0201', 'desk_0234', 'desk_0210', 'desk_0251', 'desk_0243', 'desk_0252', 'desk_0230', 'desk_0239', 'desk_0247', 'desk_0215', 'desk_0208', 'desk_0209', 'desk_0282', 'desk_0231', 'desk_0266', 'desk_0267', 'desk_0246', 'curtain_0139', 'curtain_0150', 'curtain_0148', 'curtain_0151', 'curtain_0145', 'curtain_0140', 'curtain_0141', 'curtain_0147', 'curtain_0157', 'curtain_0149', 'curtain_0142', 'curtain_0155', 'curtain_0144', 'curtain_0153', 'curtain_0158', 'curtain_0146', 'curtain_0154', 'airplane_0647', 'airplane_0722', 'airplane_0662', 'airplane_0720', 'airplane_0646', 'airplane_0697', 'airplane_0634', 'airplane_0657', 'airplane_0703', 'airplane_0638', 'airplane_0723', 'airplane_0688', 'airplane_0708', 'airplane_0671', 'airplane_0672', 'airplane_0682', 'airplane_0709', 'airplane_0640', 'airplane_0658', 'airplane_0714', 'airplane_0684', 'airplane_0648', 'airplane_0713', 'airplane_0673', 'airplane_0656', 'airplane_0665', 'airplane_0664', 'airplane_0706', 'airplane_0719', 'airplane_0690', 'airplane_0710', 'airplane_0659', 'airplane_0639', 'airplane_0681', 'airplane_0630', 'airplane_0654', 'airplane_0655', 'airplane_0687', 'airplane_0635', 'airplane_0670', 'airplane_0715', 'airplane_0653', 'airplane_0699', 'airplane_0694', 'airplane_0628', 'airplane_0642', 'airplane_0677', 'airplane_0627', 'airplane_0691', 'airplane_0701', 'airplane_0695', 'airplane_0652', 'airplane_0633', 'airplane_0650', 'airplane_0678', 'airplane_0641', 'airplane_0705', 'airplane_0702', 'airplane_0661', 'airplane_0689', 'airplane_0675', 'airplane_0632', 'airplane_0668', 'airplane_0680', 'airplane_0718', 'airplane_0704', 'airplane_0712', 'airplane_0645', 'bed_0583', 'bed_0542', 'bed_0573', 'bed_0605', 'bed_0541', 'bed_0529', 'bed_0572', 'bed_0593', 'bed_0521', 'bed_0580', 'bed_0533', 'bed_0555', 'bed_0556', 'bed_0599', 'bed_0537', 'bed_0550', 'bed_0538', 'bed_0553', 'bed_0598', 'bed_0557', 'bed_0545', 'bed_0539', 'bed_0595', 'bed_0525', 'bed_0589', 'bed_0585', 'bed_0600', 'bed_0578', 'bed_0584', 'bed_0519', 'bed_0597', 'bed_0558', 'bed_0518', 'bed_0554', 'bed_0524', 'bed_0574', 'bed_0601', 'bed_0517', 'bed_0571', 'bed_0546', 'bed_0607', 'bed_0543', 'bed_0564', 'bed_0569', 'bed_0560', 'bed_0552', 'bed_0581', 'bed_0523', 'bed_0582', 'bed_0520', 'bed_0579', 'bed_0575', 'bed_0602', 'bed_0612', 'bed_0534', 'bed_0610', 'bed_0596', 'bed_0549', 'bed_0561', 'bed_0530', 'bed_0604', 'bed_0544', 'bed_0551', 'bed_0576', 'bed_0613', 'bed_0609', 'bed_0611', 'bed_0568', 'bed_0535', 'bed_0587', 'bed_0562', 'bed_0532', 'bed_0615', 'lamp_0127', 'lamp_0139', 'lamp_0136', 'lamp_0137', 'lamp_0140', 'lamp_0143', 'lamp_0131', 'lamp_0133', 'lamp_0125', 'lamp_0144', 'lamp_0130', 'lamp_0142', 'lamp_0129', 'lamp_0126', 'lamp_0135', 'lamp_0134', 'lamp_0141', 'lamp_0132', 'lamp_0138', 'lamp_0128', 'night_stand_0269', 'night_stand_0217', 'night_stand_0248', 'night_stand_0211', 'night_stand_0213', 'night_stand_0264', 'night_stand_0258', 'night_stand_0237', 'night_stand_0280', 'night_stand_0240', 'night_stand_0206', 'night_stand_0216', 'night_stand_0266', 'night_stand_0277', 'night_stand_0221', 'night_stand_0255', 'night_stand_0220', 'night_stand_0223', 'night_stand_0268', 'night_stand_0228', 'night_stand_0274', 'night_stand_0238', 'night_stand_0275', 'night_stand_0243', 'night_stand_0218', 'night_stand_0205', 'night_stand_0267', 'night_stand_0233', 'night_stand_0265', 'night_stand_0229', 'night_stand_0249', 'night_stand_0283', 'night_stand_0203', 'night_stand_0215', 'night_stand_0247', 'night_stand_0263', 'night_stand_0241', 'night_stand_0278', 'night_stand_0276', 'night_stand_0246', 'night_stand_0285', 'night_stand_0250', 'night_stand_0236', 'night_stand_0260', 'night_stand_0225', 'night_stand_0272', 'night_stand_0257', 'night_stand_0201', 'night_stand_0270', 'night_stand_0226', 'night_stand_0252', 'night_stand_0256', 'night_stand_0222', 'night_stand_0210', 'night_stand_0224', 'night_stand_0273', 'night_stand_0259', 'night_stand_0239', 'glass_box_0255', 'glass_box_0176', 'glass_box_0210', 'glass_box_0229', 'glass_box_0173', 'glass_box_0246', 'glass_box_0209', 'glass_box_0219', 'glass_box_0250', 'glass_box_0193', 'glass_box_0221', 'glass_box_0266', 'glass_box_0224', 'glass_box_0227', 'glass_box_0218', 'glass_box_0222', 'glass_box_0186', 'glass_box_0205', 'glass_box_0271', 'glass_box_0230', 'glass_box_0184', 'glass_box_0217', 'glass_box_0265', 'glass_box_0199', 'glass_box_0261', 'glass_box_0239', 'glass_box_0212', 'glass_box_0192', 'glass_box_0174', 'glass_box_0267', 'glass_box_0245', 'glass_box_0178', 'glass_box_0206', 'glass_box_0185', 'glass_box_0190', 'glass_box_0253', 'glass_box_0247', 'glass_box_0238', 'glass_box_0201', 'glass_box_0258', 'glass_box_0175', 'glass_box_0248', 'glass_box_0177', 'glass_box_0259', 'glass_box_0208', 'glass_box_0236', 'glass_box_0194', 'glass_box_0257', 'glass_box_0226', 'glass_box_0225', 'glass_box_0240', 'glass_box_0202', 'glass_box_0268', 'glass_box_0252', 'glass_box_0180', 'glass_box_0204', 'glass_box_0237', 'glass_box_0198', 'glass_box_0234', 'glass_box_0211', 'glass_box_0249', 'glass_box_0260', 'glass_box_0242', 'glass_box_0187', 'glass_box_0262', 'glass_box_0235', 'glass_box_0215', 'glass_box_0213', 'glass_box_0232', 'glass_box_0191', 'glass_box_0200', 'glass_box_0220', 'glass_box_0244', 'glass_box_0251', 'glass_box_0243', 'glass_box_0223', 'glass_box_0183', 'glass_box_0179', 'glass_box_0228', 'glass_box_0241', 'glass_box_0182', 'glass_box_0203', 'glass_box_0216', 'glass_box_0196', 'glass_box_0270', 'glass_box_0172', 'glass_box_0254', 'glass_box_0197', 'glass_box_0231', 'glass_box_0264', 'glass_box_0188', 'glass_box_0263', 'glass_box_0256', 'glass_box_0233', 'glass_box_0207', 'glass_box_0189', 'glass_box_0195', 'glass_box_0181', 'glass_box_0214', 'glass_box_0269', 'stool_0102', 'stool_0108', 'stool_0101', 'stool_0091', 'stool_0097', 'stool_0100', 'stool_0092', 'stool_0109', 'stool_0105', 'stool_0098', 'stool_0103', 'stool_0096', 'stool_0093', 'stool_0107', 'stool_0110', 'stool_0099', 'stool_0094', 'stool_0106', 'flower_pot_0168', 'flower_pot_0156', 'flower_pot_0151', 'flower_pot_0159', 'flower_pot_0163', 'flower_pot_0154', 'flower_pot_0155', 'flower_pot_0157', 'flower_pot_0164', 'flower_pot_0169', 'flower_pot_0160', 'flower_pot_0153', 'flower_pot_0158', 'flower_pot_0167', 'flower_pot_0165', 'flower_pot_0162', 'flower_pot_0152']\n"
     ]
    }
   ],
   "source": [
    "with open('/media/disk1/mpelissi-data/MVTN/circular-12/info.json', 'r') as f:\n",
    "    json_data = json.load(f)\n",
    "\n",
    "print(json_data['name_files'])"
   ]
  },
  {
   "cell_type": "code",
   "execution_count": 22,
   "id": "a6d71957",
   "metadata": {},
   "outputs": [
    {
     "data": {
      "text/plain": [
       "17"
      ]
     },
     "execution_count": 22,
     "metadata": {},
     "output_type": "execute_result"
    }
   ],
   "source": [
    "intersection = set([i.split('.')[0] for i in items]).intersection(set(json_data['name_files']))\n",
    "len(intersection)"
   ]
  },
  {
   "cell_type": "code",
   "execution_count": 23,
   "id": "2df15ede",
   "metadata": {},
   "outputs": [
    {
     "data": {
      "text/plain": [
       "{'curtain_0139',\n",
       " 'curtain_0140',\n",
       " 'curtain_0141',\n",
       " 'curtain_0142',\n",
       " 'curtain_0144',\n",
       " 'curtain_0145',\n",
       " 'curtain_0146',\n",
       " 'curtain_0147',\n",
       " 'curtain_0148',\n",
       " 'curtain_0149',\n",
       " 'curtain_0150',\n",
       " 'curtain_0151',\n",
       " 'curtain_0153',\n",
       " 'curtain_0154',\n",
       " 'curtain_0155',\n",
       " 'curtain_0157',\n",
       " 'curtain_0158'}"
      ]
     },
     "execution_count": 23,
     "metadata": {},
     "output_type": "execute_result"
    }
   ],
   "source": [
    "intersection"
   ]
  },
  {
   "cell_type": "code",
   "execution_count": 24,
   "id": "c9b3801d",
   "metadata": {},
   "outputs": [
    {
     "data": {
      "text/plain": [
       "['curtain_0142.off',\n",
       " 'curtain_0154.off',\n",
       " 'curtain_0149.off',\n",
       " 'curtain_0150.off',\n",
       " 'curtain_0153.off',\n",
       " 'curtain_0141.off',\n",
       " 'curtain_0157.off',\n",
       " 'curtain_0147.off',\n",
       " 'curtain_0140.off',\n",
       " 'curtain_0148.off',\n",
       " 'curtain_0155.off',\n",
       " 'curtain_0144.off',\n",
       " 'curtain_0139.off',\n",
       " 'curtain_0158.off',\n",
       " 'curtain_0151.off',\n",
       " 'curtain_0146.off',\n",
       " 'curtain_0145.off']"
      ]
     },
     "execution_count": 24,
     "metadata": {},
     "output_type": "execute_result"
    }
   ],
   "source": [
    "extension = '.off'\n",
    "items = [i + extension for i in intersection] \n",
    "items"
   ]
  },
  {
   "cell_type": "code",
   "execution_count": null,
   "id": "0ed90979",
   "metadata": {},
   "outputs": [],
   "source": []
  }
 ],
 "metadata": {
  "kernelspec": {
   "display_name": "MVTN_env3",
   "language": "python",
   "name": "python3"
  },
  "language_info": {
   "codemirror_mode": {
    "name": "ipython",
    "version": 3
   },
   "file_extension": ".py",
   "mimetype": "text/x-python",
   "name": "python",
   "nbconvert_exporter": "python",
   "pygments_lexer": "ipython3",
   "version": "3.8.20"
  }
 },
 "nbformat": 4,
 "nbformat_minor": 5
}
