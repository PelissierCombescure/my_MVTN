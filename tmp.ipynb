{
 "cells": [
  {
   "cell_type": "code",
   "execution_count": 1,
   "metadata": {},
   "outputs": [
    {
     "name": "stderr",
     "output_type": "stream",
     "text": [
      "/home/mpelissi/anaconda3/envs/MVTN_env3/lib/python3.8/site-packages/tqdm/auto.py:21: TqdmWarning: IProgress not found. Please update jupyter and ipywidgets. See https://ipywidgets.readthedocs.io/en/stable/user_install.html\n",
      "  from .autonotebook import tqdm as notebook_tqdm\n"
     ]
    }
   ],
   "source": [
    "from sklearn.metrics import confusion_matrix\n",
    "import seaborn as sns\n",
    "import matplotlib.pyplot as plt\n",
    "import numpy as np\n",
    "from mvtorch.data import ModelNet40, CustomDataLoader\n",
    "from tqdm import tqdm\n",
    "import pandas as pd\n",
    "import glob\n",
    "import os\n",
    "import json "
   ]
  },
  {
   "cell_type": "code",
   "execution_count": 2,
   "metadata": {},
   "outputs": [
    {
     "data": {
      "text/html": [
       "<div>\n",
       "<style scoped>\n",
       "    .dataframe tbody tr th:only-of-type {\n",
       "        vertical-align: middle;\n",
       "    }\n",
       "\n",
       "    .dataframe tbody tr th {\n",
       "        vertical-align: top;\n",
       "    }\n",
       "\n",
       "    .dataframe thead th {\n",
       "        text-align: right;\n",
       "    }\n",
       "</style>\n",
       "<table border=\"1\" class=\"dataframe\">\n",
       "  <thead>\n",
       "    <tr style=\"text-align: right;\">\n",
       "      <th></th>\n",
       "      <th>gpu_name</th>\n",
       "      <th>folder_name</th>\n",
       "      <th>nb_views</th>\n",
       "      <th>epochs</th>\n",
       "      <th>patience</th>\n",
       "      <th>min_delta</th>\n",
       "      <th>data_dir</th>\n",
       "      <th>category</th>\n",
       "      <th>log_suffix</th>\n",
       "      <th>epoch_earlystop</th>\n",
       "      <th>views_config</th>\n",
       "      <th>opti_mvtn</th>\n",
       "      <th>lr_opti</th>\n",
       "      <th>lr_mvtn_optimizer</th>\n",
       "      <th>weight_decay</th>\n",
       "      <th>batch_size</th>\n",
       "      <th>best_accuracy</th>\n",
       "      <th>best_epoch</th>\n",
       "    </tr>\n",
       "  </thead>\n",
       "  <tbody>\n",
       "  </tbody>\n",
       "</table>\n",
       "</div>"
      ],
      "text/plain": [
       "Empty DataFrame\n",
       "Columns: [gpu_name, folder_name, nb_views, epochs, patience, min_delta, data_dir, category, log_suffix, epoch_earlystop, views_config, opti_mvtn, lr_opti, lr_mvtn_optimizer, weight_decay, batch_size, best_accuracy, best_epoch]\n",
       "Index: []"
      ]
     },
     "execution_count": 2,
     "metadata": {},
     "output_type": "execute_result"
    }
   ],
   "source": [
    "# Save an example DataFrame to a CSV file\n",
    "with open(\"/home/mpelissi/MVTN/my_MVTN/results/train/results_06-06_10h46m35/training_info.json\", 'r') as f:\n",
    "    data_json = json.load(f)\n",
    "columns = [key for key in data_json.keys() if 'test' not in key and 'train' not in key]\n",
    "df = pd.DataFrame(columns=columns)\n",
    "df.to_csv('/home/mpelissi/MVTN/my_MVTN/results/train/overview.csv', index=False)\n",
    "df"
   ]
  },
  {
   "cell_type": "code",
   "execution_count": null,
   "metadata": {},
   "outputs": [
    {
     "name": "stdout",
     "output_type": "stream",
     "text": [
      "8\n"
     ]
    }
   ],
   "source": [
    "train_folder = '/home/mpelissi/MVTN/my_MVTN/results/train'\n",
    "json_files = glob.glob(os.path.join(train_folder, '**', 'training_info.json'), recursive=True)\n",
    "print(len(json_files))\n",
    "\n",
    "for l, json_file in enumerate(json_files[:1]):\n",
    "    with open(json_file, 'r') as f:\n",
    "        data_json = json.load(f)\n",
    "        values = []\n",
    "        for c in columns:\n",
    "            if c not in data_json:\n",
    "                values.append('not saved')\n",
    "            elif c == 'lr_opti':\n",
    "                values.append(str(data_json[c]))\n",
    "            elif data_json[c] is None:\n",
    "                values.append('None')\n",
    "            else:       \n",
    "                values.append(data_json[c])\n",
    "        df.loc[l] = values\n",
    "df.to_csv('/home/mpelissi/MVTN/my_MVTN/results/train/overview.csv', index=False)"
   ]
  },
  {
   "cell_type": "code",
   "execution_count": 22,
   "metadata": {},
   "outputs": [
    {
     "data": {
      "text/plain": [
       "'1e-05'"
      ]
     },
     "execution_count": 22,
     "metadata": {},
     "output_type": "execute_result"
    }
   ],
   "source": [
    "str(data_json['lr_opti'])\n"
   ]
  },
  {
   "cell_type": "code",
   "execution_count": null,
   "metadata": {},
   "outputs": [],
   "source": [
    "values"
   ]
  },
  {
   "cell_type": "code",
   "execution_count": null,
   "metadata": {},
   "outputs": [],
   "source": []
  }
 ],
 "metadata": {
  "kernelspec": {
   "display_name": "MVTN_env3",
   "language": "python",
   "name": "python3"
  },
  "language_info": {
   "codemirror_mode": {
    "name": "ipython",
    "version": 3
   },
   "file_extension": ".py",
   "mimetype": "text/x-python",
   "name": "python",
   "nbconvert_exporter": "python",
   "pygments_lexer": "ipython3",
   "version": "3.8.20"
  }
 },
 "nbformat": 4,
 "nbformat_minor": 2
}
