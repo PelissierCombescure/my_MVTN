{
 "cells": [
  {
   "cell_type": "code",
   "execution_count": 2,
   "metadata": {},
   "outputs": [
    {
     "name": "stderr",
     "output_type": "stream",
     "text": [
      "/home/mpelissi/anaconda3/envs/MVTN_env3/lib/python3.8/site-packages/tqdm/auto.py:21: TqdmWarning: IProgress not found. Please update jupyter and ipywidgets. See https://ipywidgets.readthedocs.io/en/stable/user_install.html\n",
      "  from .autonotebook import tqdm as notebook_tqdm\n"
     ]
    }
   ],
   "source": [
    "from sklearn.metrics import confusion_matrix\n",
    "import seaborn as sns\n",
    "import matplotlib.pyplot as plt\n",
    "import numpy as np\n",
    "from mvtorch.data import ModelNet40, CustomDataLoader\n",
    "from tqdm import tqdm\n",
    "import pandas as pd\n"
   ]
  },
  {
   "cell_type": "code",
   "execution_count": 5,
   "metadata": {},
   "outputs": [
    {
     "data": {
      "text/html": [
       "<div>\n",
       "<style scoped>\n",
       "    .dataframe tbody tr th:only-of-type {\n",
       "        vertical-align: middle;\n",
       "    }\n",
       "\n",
       "    .dataframe tbody tr th {\n",
       "        vertical-align: top;\n",
       "    }\n",
       "\n",
       "    .dataframe thead th {\n",
       "        text-align: right;\n",
       "    }\n",
       "</style>\n",
       "<table border=\"1\" class=\"dataframe\">\n",
       "  <thead>\n",
       "    <tr style=\"text-align: right;\">\n",
       "      <th></th>\n",
       "      <th>Name</th>\n",
       "      <th>Nb_views</th>\n",
       "      <th>Weights_path</th>\n",
       "      <th>dir_modelnet40</th>\n",
       "      <th>config</th>\n",
       "    </tr>\n",
       "  </thead>\n",
       "  <tbody>\n",
       "    <tr>\n",
       "      <th>0</th>\n",
       "      <td>init-git</td>\n",
       "      <td>8</td>\n",
       "      <td>train/results_14-05_18h05m48/best</td>\n",
       "      <td>/home/mpelissi/Dataset/ModelNet40</td>\n",
       "      <td>circular</td>\n",
       "    </tr>\n",
       "    <tr>\n",
       "      <th>1</th>\n",
       "      <td>init-git</td>\n",
       "      <td>1</td>\n",
       "      <td>train/results_19-05_18h20m13/best</td>\n",
       "      <td>/home/mpelissi/Dataset/ModelNet40</td>\n",
       "      <td>circular</td>\n",
       "    </tr>\n",
       "  </tbody>\n",
       "</table>\n",
       "</div>"
      ],
      "text/plain": [
       "       Name  Nb_views                       Weights_path  \\\n",
       "0  init-git         8  train/results_14-05_18h05m48/best   \n",
       "1  init-git         1  train/results_19-05_18h20m13/best   \n",
       "\n",
       "                      dir_modelnet40    config  \n",
       "0  /home/mpelissi/Dataset/ModelNet40  circular  \n",
       "1  /home/mpelissi/Dataset/ModelNet40  circular  "
      ]
     },
     "execution_count": 5,
     "metadata": {},
     "output_type": "execute_result"
    }
   ],
   "source": [
    "# Save an example DataFrame to a CSV file\n",
    "df = pd.DataFrame({'Name': ['init-git', 'init-git'], 'Nb_views': [8,1], \"Weights_path\": [\"train/results_14-05_18h05m48/best\", \"train/results_19-05_18h20m13/best\"], \"dir_modelnet40\": [\"/home/mpelissi/Dataset/ModelNet40\", \"/home/mpelissi/Dataset/ModelNet40\"], 'config': [\"circular\", 'circular']})\n",
    "df.to_csv('/home/mpelissi/MVTN/my_MVTN/results/train/model_config.csv', index=False)\n",
    "df"
   ]
  },
  {
   "cell_type": "code",
   "execution_count": null,
   "metadata": {},
   "outputs": [],
   "source": []
  },
  {
   "cell_type": "code",
   "execution_count": null,
   "metadata": {},
   "outputs": [],
   "source": []
  }
 ],
 "metadata": {
  "kernelspec": {
   "display_name": "MVTN_env3",
   "language": "python",
   "name": "python3"
  },
  "language_info": {
   "codemirror_mode": {
    "name": "ipython",
    "version": 3
   },
   "file_extension": ".py",
   "mimetype": "text/x-python",
   "name": "python",
   "nbconvert_exporter": "python",
   "pygments_lexer": "ipython3",
   "version": "3.8.20"
  }
 },
 "nbformat": 4,
 "nbformat_minor": 2
}
